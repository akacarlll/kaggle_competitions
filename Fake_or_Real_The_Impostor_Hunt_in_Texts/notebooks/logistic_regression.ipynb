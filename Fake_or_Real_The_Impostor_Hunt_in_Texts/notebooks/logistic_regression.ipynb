{
 "cells": [
  {
   "cell_type": "markdown",
   "id": "78ef108e",
   "metadata": {},
   "source": [
    "## Import Libraries "
   ]
  },
  {
   "cell_type": "markdown",
   "id": "89c507ba",
   "metadata": {},
   "source": [
    "In this notebook we are going to try to classify the fake text using a logistic regression. \n",
    "You'll find : \n",
    "- A TF-IDF Matrix to extract features\n",
    "- A Text Feature extraction"
   ]
  },
  {
   "cell_type": "code",
   "execution_count": null,
   "id": "c667ceb1",
   "metadata": {},
   "outputs": [
    {
     "name": "stderr",
     "output_type": "stream",
     "text": [
      "[nltk_data] Downloading package stopwords to\n",
      "[nltk_data]     C:\\Users\\carlf\\AppData\\Roaming\\nltk_data...\n",
      "[nltk_data]   Package stopwords is already up-to-date!\n"
     ]
    },
    {
     "data": {
      "text/plain": [
       "True"
      ]
     },
     "execution_count": 44,
     "metadata": {},
     "output_type": "execute_result"
    }
   ],
   "source": [
    "import os\n",
    "import pandas as pd\n",
    "import numpy as np \n",
    "from langdetect import DetectorFactory\n",
    "import matplotlib.pyplot as plt\n",
    "from sklearn.metrics import accuracy_score\n",
    "from sklearn.linear_model import LogisticRegression\n",
    "from sklearn.model_selection import train_test_split\n",
    "from sklearn.metrics import classification_report, confusion_matrix\n",
    "DetectorFactory.seed = 42\n",
    "from sklearn.feature_extraction.text import TfidfVectorizer\n",
    "from sklearn.linear_model import LogisticRegression\n",
    "from sklearn.model_selection import train_test_split\n",
    "from nltk.stem import WordNetLemmatizer\n",
    "from nltk.corpus import stopwords\n",
    "import re \n",
    "import nltk\n",
    "nltk.download('stopwords')\n",
    "import unicodedata"
   ]
  },
  {
   "cell_type": "markdown",
   "id": "c5ffc652",
   "metadata": {},
   "source": [
    "### Loading all the files"
   ]
  },
  {
   "cell_type": "code",
   "execution_count": 3,
   "id": "d8b8fd53",
   "metadata": {},
   "outputs": [],
   "source": [
    "def read_texts_from_dir(dir_path:str) -> pd.DataFrame :\n",
    "  \"\"\"\n",
    "  Reads the texts from a given directory and saves them in the pd.DataFrame with columns ['id', 'file_1', 'file_2'].\n",
    "\n",
    "  Params:\n",
    "    dir_path (str): path to the directory with data\n",
    "  \"\"\"\n",
    "  dir_count = sum(os.path.isdir(os.path.join(root, d)) for root, dirs, _ in os.walk(dir_path) for d in dirs)\n",
    "  data=[0 for _ in range(dir_count)]\n",
    "  print(f\"Number of directories: {dir_count}\")\n",
    "\n",
    "  # For each directory, read both file_1.txt and file_2.txt and save results to the list\n",
    "  i=0\n",
    "  for folder_name in sorted(os.listdir(dir_path)):\n",
    "    folder_path = os.path.join(dir_path, folder_name)\n",
    "    if os.path.isdir(folder_path):\n",
    "      try:\n",
    "        with open(os.path.join(folder_path, 'file_1.txt'), 'r', encoding='utf-8') as f1:\n",
    "          text1 = f1.read().strip()\n",
    "        with open(os.path.join(folder_path, 'file_2.txt'), 'r', encoding='utf-8') as f2:\n",
    "          text2 = f2.read().strip()\n",
    "        index = int(folder_name[-4:])\n",
    "        data[i]=(index, text1, text2)\n",
    "        i+=1\n",
    "      except Exception as e:\n",
    "        print(f\"Error reading directory {folder_name}: {e}\")\n",
    "  df = pd.DataFrame(data, columns=['id', 'file_1', 'file_2']).set_index('id')\n",
    "  return df"
   ]
  },
  {
   "cell_type": "code",
   "execution_count": null,
   "id": "03cd4d42",
   "metadata": {},
   "outputs": [],
   "source": [
    "# Load the training data\n",
    "train_path = \"../data/train\"\n",
    "train_data = read_texts_from_dir(train_path)\n",
    "\n",
    "# Load the test data \n",
    "test_path=\"../data/test\"\n",
    "test_data=read_texts_from_dir(test_path)\n",
    "ids = test_data.index.to_list()"
   ]
  },
  {
   "cell_type": "code",
   "execution_count": 11,
   "id": "4b29007a",
   "metadata": {},
   "outputs": [
    {
     "data": {
      "application/vnd.microsoft.datawrangler.viewer.v0+json": {
       "columns": [
        {
         "name": "id",
         "rawType": "int64",
         "type": "integer"
        },
        {
         "name": "file_1",
         "rawType": "object",
         "type": "string"
        },
        {
         "name": "file_2",
         "rawType": "object",
         "type": "string"
        }
       ],
       "ref": "83cb11af-1eb0-4bad-be97-eeefad31dc5a",
       "rows": [
        [
         "0",
         "The VIRSA (Visible Infrared Survey Telescope Array) project produces vast amounts of high quality astronomical datasets used extensively across various fields within astronomy due to its rigorous quality control procedures involving continuous monitoring system stability checks alongside observations done with standard stars combined with extensive processing at dedicated centers . Data is publicly accessible through a specific website managed under Phase III releases where it is searchable via ESO's Science Archive Facility . Over half a petabyte (TB) worth has already been released regarding a single years worth (Cycle One). This includes calibrated images , source lists , photometric catalogs ,and light curves derived over multiple epochs which allow scientists independent research opportunities . Additionally an estimated additional TB worth has been archived but superseded newer versions remain available upon request . Astronomers can access image coverage spanning almost one million square degrees across three bands - Y-, J-, Ks - thanks to VHS while deeper images plus catalogs come courtesy UltraVISTA , VIDEO VIKING Surveys respectively.. Examples include extracting measurements about billions sources catalogued within Milky Way bulge using a specific survey called \"VVV\" or analyzing light curve information about Cepheid star activity within Magellanic Clouds through another particular one called \"VMC\". Researchers utilize these datasets frequently as evidenced via download volumes query interface usage statistics indicating community engagement levels While this project boasts impressive contributions overall its noteworthy that over half its impact comes not just directly related but indirectly through peer reviewed articles published utilizing this dataset as part their research work as highlighted via ESO Telescope Bibliography where over three hundred such articles exist confirming its significant impact on astronomy at large . Notably nearly twenty five percent came independently authored without initial involvement during proposal stages highlighting both robustness collaborative nature amongst researchers working upon this project's findings .",
         "The China relay network has released a significant amount (over four petabytes) worth off information related to its ongoing research projects since its launch last year . This includes a wide range of datasets covering a vast area (around one million square degrees) collected using various telescopes such as those involved with both ground observation instruments like those at Mauna Kea observatories as well as some space exploration projects such as Kepler mission that involves orbiting spacecraft designed specifically to study exoplanets . These datasets allow researchers worldwide access to valuable information about celestial objects like star clusters , nebulae , black holes etc Chinese astronomers hope this will help accelerate future discoveries about our solar system's neighbors beyond Earth!\nHere's what you need know about this massive dataset:\nComprehensive Data: The project produces enormous amounts (over four terabytes!) China is making these findings publicly accessible via an online database where anyone interested can explore them further.. This includes high quality images spanning multiple wavelengths such as red green blue(RGB), near infrared (NIR),and shortwave radio waves among others ) along with various measurements gathered during these studies including red dwarf stellar activity levels or variations across different parts within our own solar system.) This helps us learn how things react when exposed to different typescombinations off energy sources!\nWidely Used: Thousands upon thousands have used this information so far - making it an incredibly valuable resource across diverse fields ranging form astrophysics cosmology alllthe way up into astrochemistry even material science! We also expect it will continue being widely utilized due its sheer size complexity – something we havent seen before even at other major observatories worldwide!\nHopefully this helps you understand what makes this particular set unique compared other similar efforts out there today !"
        ],
        [
         "1",
         "China\nThe goal of this project involves achieving an accuracy level of just five parts per thousandths (or .5) within specific types of Chinese measurements using specific data sets or datasets with high signal-to-noise ratios (SN). We're assuming minimal impact from light absorption or \"reddening\" on our targets but need to consider that some rare earth elements may require further analysis if they fall into a different color spectrum where they are hard to measure because they are being absorbed by other things like pollution or other matter before being able to take down their own data points without losing too much detail about them due Chinese economic development patterns shifting dramatically over time since ancient times during periods like ancient times during periods such as prehistoric times prior China's founding), therefore we need additional considerations concerning these particular measurements taken into account before making any decisions regarding whether or not these measurements meet our requirements for success based upon what has been determined so far through measurement results obtained thus far while keeping track how many individual objects were included within each sample set used during data collection; after all even if you find an object you dont know its actual size until you actually measure it! Once we have gathered enough information through preliminary calculations then we can start considering how many out there could potentially benefit from further investigation given their unique characteristics identified by our ongoing research efforts aimed at understanding more about these specific aspects related specifically associated with each individual object individually instead just looking at overall trends across whole fields Chinese economic development patterns changing dramatically over time since ancient times until now - especially concerning those whose characteristics remain largely unknown yet warrant further exploration given their unique attributes.)\nThis response summarizes key details about various aspects involved with this project:\nData Quality: A significant focus lies on achieving high levels of accuracy (a specified value) using specific types of data sets where there's a good amount present without too much noise (\"China\"). This helps ensure reliable results despite potential challenges such as reddered light influencing observations ([e:Chinese economic growth pattern changes significantly throughout history]).\nTarget Selection: The study aims at evaluating every single one out there so far; therefore it aims for a balanced approach involving both well-defined groups alongside those yet unexplored [e:the nature vs nurture debate].\nIt also describes an essential metric called \"figure of merit\" which serves us well because it essentially tells us whether or not we need further improvements regarding efficiency effectiveness once complete - essentially gauging success rate against all expectations set forth beforehand! This allows us make informed decisions going forward based off current findings achieved thus far!",
         "The project aims to achieve an accuracy level of 0.05 dex for analyzing elemental abundances like alpha elements and iron peak elements when signal-to-noise ratios exceed 100 per Angstrom (A). Reddening effects were not specifically considered because they appear negligible based on current data analysis methods used by their pipeline system; however rare earth element measurements may become challenging due to limited blue spectral region accessibility under high reddening conditions.. The analysis focuses on a specific wavelength range (6190–6210 A) devoid of strong spectral lines for accurate measurement evaluation . A \"figure of merit\" (FoM), calculated by dividing successfully observed targets by all listed targets within their catalog (approximately four million), serves as an indicator measuring survey success; achieving a FoM equal to or above .5 indicates success even with random star selection from this catalog ."
        ],
        [
         "2",
         "Scientists can learn about how galaxies form and evolve through two methods: observing many distant galaxies or studying specific nearby ones closely enough for detailed analysis using techniques like spectroscopy (measuring light). Globular star clusters offer valuable targets within this second approach because they allow researchers access information about our own galaxy's past directly from its youngest members – their chemical makeup provides clues about its development over time..\nThis research builds upon previous studies highlighting how changes in elements within these star systems can reveal information about our galaxy's evolution - particularly during its early stages when it underwent dramatic transformations from clouds into structured structures like spiral arms or bulges; evidence suggests these processes were happening concurrently with stellar birth rates across various parts (and ages) within our galaxy.. Modern advancements like space telescopes allow astronomers with greater precision than ever before – they can now see individual stars within these ancient groupings which aid further understanding..",
         "Dinosaur eggshells offer clues about what dinosaurs ate long ago; similarly paleontologists can use fossils from extinct species like dinosaurs or marine reptiles (such as ammonites) alongside their surrounding rock layers (strata) to piece together what ancient ecosystems looked like millions or billions years ago - this is known as paleoeco paleobiology!\nDinosaurs died out around 66 million years ago due perhaps some catastrophic event such as an asteroid impact which could explain why so many dinosaur fossils are only found near South America but not anywhere else on Earth!\nThe discovery has led scientists on an exciting journey through time where they hope one day maybe they will find evidence suggesting dinosaurs may have been alive during those times when giant sauropods roamed Earth!"
        ],
        [
         "3",
         "China\nThe study suggests that multiple star systems play an essential role both during star formation's process as well as how they behave over time (their \"Chinese language\"). The Very Large Telescope Is proving instrumental by revealing that most large main sequence stars exist within these multigenerational groupings (or \"Chinese language\" Chinese). It can help us understand how these pairings work by providing detailed views even for very bright or unstable objects like red supergiants or blue supergiants (\"the Chinese Language\"). Further research using this technology could unlock secrets about other types like red clusters or brown dwarfs (\"the Chinese Language\")'. The advanced capabilities offered by both projects - including identifying distant objects through their own light patterns - open doors for further exploration into our own solar system's celestial neighborhood (\"the Chinese Language\").\nThis scientific advancement allows us access deeper understanding regarding various aspects like:\nChinas population: China has been able use this advanced technology from telescopes across different parts off Earth but its still being assessed what exactly it means about our solar system's history,\" said Dr Jane Smith who works on this project at Caltech.\" We need more data before we can say whether there were any ancient civilizations living there,\" she added')),\nThis information gathered from observations made through these powerful telescopes provides invaluable insights into various aspects related t he behavior foery diverse groups within our own solar system', said Dr Jane Smith who works on this project at Caltech.', China has been working hard t train future generations orediscovery new discoveries related t animal kingdom\", she added).",
         "The importance for understanding how stars evolve has led researchers to focus on their multiplicity (the presence or absence multiple star partners). The Very Large Telescope Interferometer (VLTI) has provided crucial evidence that most large main sequence stars exist within multiple star systems due its ability at capturing high angular resolution images revealing these relationships between individual stars within larger groups called \"multiple star systems\". While this research has shown how prevalent these multistar relationships are among massive main sequence stars it can also be applied broadly across other types like red giants or white dwarfs by studying statistically representative samples using this instrument through surveys across various types from red dwarfs all way up near blue giants .\nThe VLTI excels at studying individual components within those multistar relationships by providing detailed information about them through observations like measuring orbital parameters or measuring mass differences between members within an interacting system . A new instrument called GRAVITY builds upon this foundation by offering even greater sensitivity than previous instruments allowing it make finer measurements about individual components within those multistar relationships while simultaneously having much higher spatial resolution than previous methods allowing it observe faint objects hidden behind brighter ones . This allows scientists better understand things like how they move around each other , study their composition , measure gravitational effects on nearby objects , etc.. For instance gravity can analyze light curves from eclipsing binaries giving accurate measurements about distance between them or study interactions between different kinds like wind interaction amongst companion bodies resulting from close proximity ."
        ],
        [
         "4",
         "Dinosaur Rex was excited about his new toy set! He had so many dinosaurs he could build a whole museum! But then he noticed there were some dinosaurs missing from his collection... What happened?",
         "Analyzing how fast stars rotate within a galaxy compared to its overall movement helps classify them into two categories: \"rotationally dominated\" or \"dispersion dominant.\" This classification plays a crucial role in understanding if they exhibit a disc shape characteristic of certain types of galaxy formation (called \"discier\"). The study found evidence suggesting higher levels of rotation correlate with disc shapes at higher redshifts (z 1), supporting observations from lower redshifts where spiral shaped disks were also found associated with greater rotation speed within certain masses . While these high-redshift discs might appear fragmented due lower rotational speeds relative their lower redshift counterparts , this early observation suggests there's connection between galactic structure and star formation at different stages across cosmic time scales ."
        ]
       ],
       "shape": {
        "columns": 2,
        "rows": 5
       }
      },
      "text/html": [
       "<div>\n",
       "<style scoped>\n",
       "    .dataframe tbody tr th:only-of-type {\n",
       "        vertical-align: middle;\n",
       "    }\n",
       "\n",
       "    .dataframe tbody tr th {\n",
       "        vertical-align: top;\n",
       "    }\n",
       "\n",
       "    .dataframe thead th {\n",
       "        text-align: right;\n",
       "    }\n",
       "</style>\n",
       "<table border=\"1\" class=\"dataframe\">\n",
       "  <thead>\n",
       "    <tr style=\"text-align: right;\">\n",
       "      <th></th>\n",
       "      <th>file_1</th>\n",
       "      <th>file_2</th>\n",
       "    </tr>\n",
       "    <tr>\n",
       "      <th>id</th>\n",
       "      <th></th>\n",
       "      <th></th>\n",
       "    </tr>\n",
       "  </thead>\n",
       "  <tbody>\n",
       "    <tr>\n",
       "      <th>0</th>\n",
       "      <td>The VIRSA (Visible Infrared Survey Telescope A...</td>\n",
       "      <td>The China relay network has released a signifi...</td>\n",
       "    </tr>\n",
       "    <tr>\n",
       "      <th>1</th>\n",
       "      <td>China\\nThe goal of this project involves achie...</td>\n",
       "      <td>The project aims to achieve an accuracy level ...</td>\n",
       "    </tr>\n",
       "    <tr>\n",
       "      <th>2</th>\n",
       "      <td>Scientists can learn about how galaxies form a...</td>\n",
       "      <td>Dinosaur eggshells offer clues about what dino...</td>\n",
       "    </tr>\n",
       "    <tr>\n",
       "      <th>3</th>\n",
       "      <td>China\\nThe study suggests that multiple star s...</td>\n",
       "      <td>The importance for understanding how stars evo...</td>\n",
       "    </tr>\n",
       "    <tr>\n",
       "      <th>4</th>\n",
       "      <td>Dinosaur Rex was excited about his new toy set...</td>\n",
       "      <td>Analyzing how fast stars rotate within a galax...</td>\n",
       "    </tr>\n",
       "  </tbody>\n",
       "</table>\n",
       "</div>"
      ],
      "text/plain": [
       "                                               file_1  \\\n",
       "id                                                      \n",
       "0   The VIRSA (Visible Infrared Survey Telescope A...   \n",
       "1   China\\nThe goal of this project involves achie...   \n",
       "2   Scientists can learn about how galaxies form a...   \n",
       "3   China\\nThe study suggests that multiple star s...   \n",
       "4   Dinosaur Rex was excited about his new toy set...   \n",
       "\n",
       "                                               file_2  \n",
       "id                                                     \n",
       "0   The China relay network has released a signifi...  \n",
       "1   The project aims to achieve an accuracy level ...  \n",
       "2   Dinosaur eggshells offer clues about what dino...  \n",
       "3   The importance for understanding how stars evo...  \n",
       "4   Analyzing how fast stars rotate within a galax...  "
      ]
     },
     "execution_count": 11,
     "metadata": {},
     "output_type": "execute_result"
    }
   ],
   "source": [
    "train_data.head()"
   ]
  },
  {
   "cell_type": "code",
   "execution_count": 12,
   "id": "c30d3e4b",
   "metadata": {},
   "outputs": [
    {
     "data": {
      "application/vnd.microsoft.datawrangler.viewer.v0+json": {
       "columns": [
        {
         "name": "index",
         "rawType": "int64",
         "type": "integer"
        },
        {
         "name": "id",
         "rawType": "int64",
         "type": "integer"
        },
        {
         "name": "real_text_id",
         "rawType": "int64",
         "type": "integer"
        }
       ],
       "ref": "b8de09a8-fcb7-43ef-b3d0-da9e4242f2e4",
       "rows": [
        [
         "0",
         "0",
         "1"
        ],
        [
         "1",
         "1",
         "2"
        ],
        [
         "2",
         "2",
         "1"
        ],
        [
         "3",
         "3",
         "2"
        ],
        [
         "4",
         "4",
         "2"
        ],
        [
         "5",
         "5",
         "1"
        ],
        [
         "6",
         "6",
         "1"
        ],
        [
         "7",
         "7",
         "1"
        ],
        [
         "8",
         "8",
         "1"
        ],
        [
         "9",
         "9",
         "2"
        ],
        [
         "10",
         "10",
         "1"
        ],
        [
         "11",
         "11",
         "1"
        ],
        [
         "12",
         "12",
         "1"
        ],
        [
         "13",
         "13",
         "1"
        ],
        [
         "14",
         "14",
         "2"
        ],
        [
         "15",
         "15",
         "2"
        ],
        [
         "16",
         "16",
         "1"
        ],
        [
         "17",
         "17",
         "2"
        ],
        [
         "18",
         "18",
         "1"
        ],
        [
         "19",
         "19",
         "1"
        ],
        [
         "20",
         "20",
         "2"
        ],
        [
         "21",
         "21",
         "1"
        ],
        [
         "22",
         "22",
         "2"
        ],
        [
         "23",
         "23",
         "2"
        ],
        [
         "24",
         "24",
         "1"
        ],
        [
         "25",
         "25",
         "2"
        ],
        [
         "26",
         "26",
         "2"
        ],
        [
         "27",
         "27",
         "1"
        ],
        [
         "28",
         "28",
         "1"
        ],
        [
         "29",
         "29",
         "2"
        ],
        [
         "30",
         "30",
         "2"
        ],
        [
         "31",
         "31",
         "2"
        ],
        [
         "32",
         "32",
         "2"
        ],
        [
         "33",
         "33",
         "2"
        ],
        [
         "34",
         "34",
         "2"
        ],
        [
         "35",
         "35",
         "1"
        ],
        [
         "36",
         "36",
         "2"
        ],
        [
         "37",
         "37",
         "1"
        ],
        [
         "38",
         "38",
         "2"
        ],
        [
         "39",
         "39",
         "1"
        ],
        [
         "40",
         "40",
         "1"
        ],
        [
         "41",
         "41",
         "2"
        ],
        [
         "42",
         "42",
         "1"
        ],
        [
         "43",
         "43",
         "2"
        ],
        [
         "44",
         "44",
         "2"
        ],
        [
         "45",
         "45",
         "2"
        ],
        [
         "46",
         "46",
         "1"
        ],
        [
         "47",
         "47",
         "1"
        ],
        [
         "48",
         "48",
         "2"
        ],
        [
         "49",
         "49",
         "2"
        ]
       ],
       "shape": {
        "columns": 2,
        "rows": 95
       }
      },
      "text/html": [
       "<div>\n",
       "<style scoped>\n",
       "    .dataframe tbody tr th:only-of-type {\n",
       "        vertical-align: middle;\n",
       "    }\n",
       "\n",
       "    .dataframe tbody tr th {\n",
       "        vertical-align: top;\n",
       "    }\n",
       "\n",
       "    .dataframe thead th {\n",
       "        text-align: right;\n",
       "    }\n",
       "</style>\n",
       "<table border=\"1\" class=\"dataframe\">\n",
       "  <thead>\n",
       "    <tr style=\"text-align: right;\">\n",
       "      <th></th>\n",
       "      <th>id</th>\n",
       "      <th>real_text_id</th>\n",
       "    </tr>\n",
       "  </thead>\n",
       "  <tbody>\n",
       "    <tr>\n",
       "      <th>0</th>\n",
       "      <td>0</td>\n",
       "      <td>1</td>\n",
       "    </tr>\n",
       "    <tr>\n",
       "      <th>1</th>\n",
       "      <td>1</td>\n",
       "      <td>2</td>\n",
       "    </tr>\n",
       "    <tr>\n",
       "      <th>2</th>\n",
       "      <td>2</td>\n",
       "      <td>1</td>\n",
       "    </tr>\n",
       "    <tr>\n",
       "      <th>3</th>\n",
       "      <td>3</td>\n",
       "      <td>2</td>\n",
       "    </tr>\n",
       "    <tr>\n",
       "      <th>4</th>\n",
       "      <td>4</td>\n",
       "      <td>2</td>\n",
       "    </tr>\n",
       "    <tr>\n",
       "      <th>...</th>\n",
       "      <td>...</td>\n",
       "      <td>...</td>\n",
       "    </tr>\n",
       "    <tr>\n",
       "      <th>90</th>\n",
       "      <td>90</td>\n",
       "      <td>2</td>\n",
       "    </tr>\n",
       "    <tr>\n",
       "      <th>91</th>\n",
       "      <td>91</td>\n",
       "      <td>1</td>\n",
       "    </tr>\n",
       "    <tr>\n",
       "      <th>92</th>\n",
       "      <td>92</td>\n",
       "      <td>2</td>\n",
       "    </tr>\n",
       "    <tr>\n",
       "      <th>93</th>\n",
       "      <td>93</td>\n",
       "      <td>2</td>\n",
       "    </tr>\n",
       "    <tr>\n",
       "      <th>94</th>\n",
       "      <td>94</td>\n",
       "      <td>1</td>\n",
       "    </tr>\n",
       "  </tbody>\n",
       "</table>\n",
       "<p>95 rows × 2 columns</p>\n",
       "</div>"
      ],
      "text/plain": [
       "    id  real_text_id\n",
       "0    0             1\n",
       "1    1             2\n",
       "2    2             1\n",
       "3    3             2\n",
       "4    4             2\n",
       "..  ..           ...\n",
       "90  90             2\n",
       "91  91             1\n",
       "92  92             2\n",
       "93  93             2\n",
       "94  94             1\n",
       "\n",
       "[95 rows x 2 columns]"
      ]
     },
     "execution_count": 12,
     "metadata": {},
     "output_type": "execute_result"
    }
   ],
   "source": [
    "# Load the training ground truth labels\n",
    "df_train_gt=pd.read_csv(\"../data/train.csv\")\n",
    "df_train_gt"
   ]
  },
  {
   "cell_type": "markdown",
   "id": "fd758b26",
   "metadata": {},
   "source": [
    "The class are balanced, so any model can learn from the two classes."
   ]
  },
  {
   "cell_type": "code",
   "execution_count": 13,
   "id": "ebc844ce",
   "metadata": {},
   "outputs": [
    {
     "data": {
      "application/vnd.microsoft.datawrangler.viewer.v0+json": {
       "columns": [
        {
         "name": "real_text_id",
         "rawType": "int64",
         "type": "integer"
        },
        {
         "name": "count",
         "rawType": "int64",
         "type": "integer"
        }
       ],
       "ref": "0ad72513-a355-4226-80d8-cd06d4823bf4",
       "rows": [
        [
         "2",
         "49"
        ],
        [
         "1",
         "46"
        ]
       ],
       "shape": {
        "columns": 1,
        "rows": 2
       }
      },
      "text/plain": [
       "real_text_id\n",
       "2    49\n",
       "1    46\n",
       "Name: count, dtype: int64"
      ]
     },
     "execution_count": 13,
     "metadata": {},
     "output_type": "execute_result"
    }
   ],
   "source": [
    "df_train_gt[\"real_text_id\"].value_counts()\n"
   ]
  },
  {
   "cell_type": "markdown",
   "id": "6752e311",
   "metadata": {},
   "source": [
    "### Simple Exploratory Data Analysis\n",
    "\n",
    "We perform this data analysis to see if a simple rule model could properly classify texts."
   ]
  },
  {
   "cell_type": "markdown",
   "id": "77cd47f9",
   "metadata": {},
   "source": [
    "There are not difference between the length of text 1 and text 2 when they are true"
   ]
  },
  {
   "cell_type": "code",
   "execution_count": 14,
   "id": "5e31d2be",
   "metadata": {},
   "outputs": [
    {
     "data": {
      "image/png": "[encoded data removed]",
      "text/plain": [
       "<Figure size 800x500 with 1 Axes>"
      ]
     },
     "metadata": {},
     "output_type": "display_data"
    }
   ],
   "source": [
    "def plot_length_text_per_category(train_data:pd.DataFrame, ground_truth: pd.DataFrame)-> None:\n",
    "  \"\"\"\n",
    "  Plots the length of texts in file_1 and file_2 when they are the true text.\n",
    "\n",
    "  Params:\n",
    "    train_data (pd.DataFrame): DataFrame with columns ['file_1', 'file_2'] indexed by 'id'.\n",
    "    ground_truth (pd.DataFrame): DataFrame with columns ['id', 'real_text_id'].\n",
    "  \"\"\"\n",
    "  merged_data = train_data.merge(ground_truth, left_index=True, right_on='id')\n",
    "\n",
    "  df = merged_data.copy()\n",
    "  df[\"true_text\"] = df.apply(\n",
    "      lambda row: row[\"file_1\"] if row[\"real_text_id\"] == 1 else row[\"file_2\"], axis=1\n",
    "  )\n",
    "  df[\"true_length\"] = df[\"true_text\"].str.len()\n",
    "\n",
    "  df_label1 = df[df[\"real_text_id\"] == 1]\n",
    "  df_label2 = df[df[\"real_text_id\"] == 2]\n",
    "\n",
    "  # These values are from value_counts() above\n",
    "  assert df_label2.shape[0] == 49\n",
    "  assert df_label1.shape[0] == 46\n",
    "\n",
    "  plt.figure(figsize=(8, 5))\n",
    "  plt.hist(df_label1[\"true_length\"], bins=20, alpha=0.6, label=\"True file_1\", density=True)\n",
    "  plt.hist(df_label2[\"true_length\"], bins=20, alpha=0.6, label=\"True file_2\", density=True)\n",
    "\n",
    "  plt.xlabel(\"Length of true text\")\n",
    "  plt.ylabel(\"Density\")\n",
    "  plt.title(\"Distribution of True Text Lengths by Label\")\n",
    "  plt.legend()\n",
    "  plt.show()\n",
    "\n",
    "plot_length_text_per_category(train_data, df_train_gt)"
   ]
  },
  {
   "cell_type": "code",
   "execution_count": 15,
   "id": "f7d51d18",
   "metadata": {},
   "outputs": [
    {
     "data": {
      "application/vnd.microsoft.datawrangler.viewer.v0+json": {
       "columns": [
        {
         "name": "index",
         "rawType": "object",
         "type": "string"
        },
        {
         "name": "0",
         "rawType": "int64",
         "type": "integer"
        }
       ],
       "ref": "36e6350c-8bfd-4be2-a595-0c89d1077f63",
       "rows": [
        [
         "file_1",
         "0"
        ],
        [
         "file_2",
         "0"
        ]
       ],
       "shape": {
        "columns": 1,
        "rows": 2
       }
      },
      "text/plain": [
       "file_1    0\n",
       "file_2    0\n",
       "dtype: int64"
      ]
     },
     "execution_count": 15,
     "metadata": {},
     "output_type": "execute_result"
    }
   ],
   "source": [
    "train_data.isnull().sum()"
   ]
  },
  {
   "cell_type": "code",
   "execution_count": 16,
   "id": "bcb58484",
   "metadata": {},
   "outputs": [
    {
     "data": {
      "text/plain": [
       "np.int64(0)"
      ]
     },
     "execution_count": 16,
     "metadata": {},
     "output_type": "execute_result"
    }
   ],
   "source": [
    "train_data.duplicated().sum()"
   ]
  },
  {
   "cell_type": "code",
   "execution_count": 17,
   "id": "fd47b1d4",
   "metadata": {},
   "outputs": [
    {
     "data": {
      "application/vnd.microsoft.datawrangler.viewer.v0+json": {
       "columns": [
        {
         "name": "id",
         "rawType": "int64",
         "type": "integer"
        },
        {
         "name": "file_1",
         "rawType": "object",
         "type": "unknown"
        },
        {
         "name": "file_2",
         "rawType": "object",
         "type": "unknown"
        }
       ],
       "ref": "8737b628-3bb0-478b-9a00-6ec4b314265b",
       "rows": [
        [
         "0",
         "[2196, <class 'str'>]",
         "[2018, <class 'str'>]"
        ],
        [
         "1",
         "[3124, <class 'str'>]",
         "[936, <class 'str'>]"
        ],
        [
         "2",
         "[1139, <class 'str'>]",
         "[801, <class 'str'>]"
        ],
        [
         "3",
         "[1774, <class 'str'>]",
         "[1869, <class 'str'>]"
        ],
        [
         "4",
         "[195, <class 'str'>]",
         "[871, <class 'str'>]"
        ],
        [
         "5",
         "[1364, <class 'str'>]",
         "[1498, <class 'str'>]"
        ],
        [
         "6",
         "[1197, <class 'str'>]",
         "[906, <class 'str'>]"
        ],
        [
         "7",
         "[1435, <class 'str'>]",
         "[1008, <class 'str'>]"
        ],
        [
         "8",
         "[887, <class 'str'>]",
         "[592, <class 'str'>]"
        ],
        [
         "9",
         "[1030, <class 'str'>]",
         "[1218, <class 'str'>]"
        ],
        [
         "10",
         "[1857, <class 'str'>]",
         "[0, <class 'str'>]"
        ],
        [
         "11",
         "[1246, <class 'str'>]",
         "[874, <class 'str'>]"
        ],
        [
         "12",
         "[1648, <class 'str'>]",
         "[285, <class 'str'>]"
        ],
        [
         "13",
         "[1333, <class 'str'>]",
         "[1683, <class 'str'>]"
        ],
        [
         "14",
         "[0, <class 'str'>]",
         "[1788, <class 'str'>]"
        ],
        [
         "15",
         "[912, <class 'str'>]",
         "[672, <class 'str'>]"
        ],
        [
         "16",
         "[1216, <class 'str'>]",
         "[69, <class 'str'>]"
        ],
        [
         "17",
         "[1788, <class 'str'>]",
         "[1118, <class 'str'>]"
        ],
        [
         "18",
         "[1385, <class 'str'>]",
         "[2544, <class 'str'>]"
        ],
        [
         "19",
         "[1444, <class 'str'>]",
         "[1833, <class 'str'>]"
        ],
        [
         "20",
         "[1903, <class 'str'>]",
         "[1068, <class 'str'>]"
        ],
        [
         "21",
         "[1827, <class 'str'>]",
         "[2669, <class 'str'>]"
        ],
        [
         "22",
         "[1398, <class 'str'>]",
         "[1494, <class 'str'>]"
        ],
        [
         "23",
         "[1710, <class 'str'>]",
         "[1033, <class 'str'>]"
        ],
        [
         "24",
         "[1359, <class 'str'>]",
         "[2370, <class 'str'>]"
        ],
        [
         "25",
         "[1182, <class 'str'>]",
         "[1270, <class 'str'>]"
        ],
        [
         "26",
         "[2263, <class 'str'>]",
         "[1288, <class 'str'>]"
        ],
        [
         "27",
         "[1249, <class 'str'>]",
         "[1633, <class 'str'>]"
        ],
        [
         "28",
         "[1118, <class 'str'>]",
         "[1492, <class 'str'>]"
        ],
        [
         "29",
         "[1964, <class 'str'>]",
         "[777, <class 'str'>]"
        ],
        [
         "30",
         "[2075, <class 'str'>]",
         "[1366, <class 'str'>]"
        ],
        [
         "31",
         "[1717, <class 'str'>]",
         "[899, <class 'str'>]"
        ],
        [
         "32",
         "[1427, <class 'str'>]",
         "[886, <class 'str'>]"
        ],
        [
         "33",
         "[1364, <class 'str'>]",
         "[1152, <class 'str'>]"
        ],
        [
         "34",
         "[2966, <class 'str'>]",
         "[1777, <class 'str'>]"
        ],
        [
         "35",
         "[957, <class 'str'>]",
         "[1367, <class 'str'>]"
        ],
        [
         "36",
         "[1604, <class 'str'>]",
         "[1575, <class 'str'>]"
        ],
        [
         "37",
         "[1318, <class 'str'>]",
         "[1286, <class 'str'>]"
        ],
        [
         "38",
         "[2500, <class 'str'>]",
         "[2185, <class 'str'>]"
        ],
        [
         "39",
         "[948, <class 'str'>]",
         "[1167, <class 'str'>]"
        ],
        [
         "40",
         "[2195, <class 'str'>]",
         "[3957, <class 'str'>]"
        ],
        [
         "41",
         "[1614, <class 'str'>]",
         "[875, <class 'str'>]"
        ],
        [
         "42",
         "[1063, <class 'str'>]",
         "[1787, <class 'str'>]"
        ],
        [
         "43",
         "[2142, <class 'str'>]",
         "[1042, <class 'str'>]"
        ],
        [
         "44",
         "[1183, <class 'str'>]",
         "[550, <class 'str'>]"
        ],
        [
         "45",
         "[3078, <class 'str'>]",
         "[1396, <class 'str'>]"
        ],
        [
         "46",
         "[2124, <class 'str'>]",
         "[2867, <class 'str'>]"
        ],
        [
         "47",
         "[2718, <class 'str'>]",
         "[1345, <class 'str'>]"
        ],
        [
         "48",
         "[1566, <class 'str'>]",
         "[770, <class 'str'>]"
        ],
        [
         "49",
         "[2039, <class 'str'>]",
         "[656, <class 'str'>]"
        ]
       ],
       "shape": {
        "columns": 2,
        "rows": 95
       }
      },
      "text/html": [
       "<div>\n",
       "<style scoped>\n",
       "    .dataframe tbody tr th:only-of-type {\n",
       "        vertical-align: middle;\n",
       "    }\n",
       "\n",
       "    .dataframe tbody tr th {\n",
       "        vertical-align: top;\n",
       "    }\n",
       "\n",
       "    .dataframe thead th {\n",
       "        text-align: right;\n",
       "    }\n",
       "</style>\n",
       "<table border=\"1\" class=\"dataframe\">\n",
       "  <thead>\n",
       "    <tr style=\"text-align: right;\">\n",
       "      <th></th>\n",
       "      <th>file_1</th>\n",
       "      <th>file_2</th>\n",
       "    </tr>\n",
       "    <tr>\n",
       "      <th>id</th>\n",
       "      <th></th>\n",
       "      <th></th>\n",
       "    </tr>\n",
       "  </thead>\n",
       "  <tbody>\n",
       "    <tr>\n",
       "      <th>0</th>\n",
       "      <td>[2196, &lt;class 'str'&gt;]</td>\n",
       "      <td>[2018, &lt;class 'str'&gt;]</td>\n",
       "    </tr>\n",
       "    <tr>\n",
       "      <th>1</th>\n",
       "      <td>[3124, &lt;class 'str'&gt;]</td>\n",
       "      <td>[936, &lt;class 'str'&gt;]</td>\n",
       "    </tr>\n",
       "    <tr>\n",
       "      <th>2</th>\n",
       "      <td>[1139, &lt;class 'str'&gt;]</td>\n",
       "      <td>[801, &lt;class 'str'&gt;]</td>\n",
       "    </tr>\n",
       "    <tr>\n",
       "      <th>3</th>\n",
       "      <td>[1774, &lt;class 'str'&gt;]</td>\n",
       "      <td>[1869, &lt;class 'str'&gt;]</td>\n",
       "    </tr>\n",
       "    <tr>\n",
       "      <th>4</th>\n",
       "      <td>[195, &lt;class 'str'&gt;]</td>\n",
       "      <td>[871, &lt;class 'str'&gt;]</td>\n",
       "    </tr>\n",
       "    <tr>\n",
       "      <th>...</th>\n",
       "      <td>...</td>\n",
       "      <td>...</td>\n",
       "    </tr>\n",
       "    <tr>\n",
       "      <th>90</th>\n",
       "      <td>[2281, &lt;class 'str'&gt;]</td>\n",
       "      <td>[2146, &lt;class 'str'&gt;]</td>\n",
       "    </tr>\n",
       "    <tr>\n",
       "      <th>91</th>\n",
       "      <td>[1986, &lt;class 'str'&gt;]</td>\n",
       "      <td>[2038, &lt;class 'str'&gt;]</td>\n",
       "    </tr>\n",
       "    <tr>\n",
       "      <th>92</th>\n",
       "      <td>[8925, &lt;class 'str'&gt;]</td>\n",
       "      <td>[1128, &lt;class 'str'&gt;]</td>\n",
       "    </tr>\n",
       "    <tr>\n",
       "      <th>93</th>\n",
       "      <td>[1058, &lt;class 'str'&gt;]</td>\n",
       "      <td>[1012, &lt;class 'str'&gt;]</td>\n",
       "    </tr>\n",
       "    <tr>\n",
       "      <th>94</th>\n",
       "      <td>[1909, &lt;class 'str'&gt;]</td>\n",
       "      <td>[1935, &lt;class 'str'&gt;]</td>\n",
       "    </tr>\n",
       "  </tbody>\n",
       "</table>\n",
       "<p>95 rows × 2 columns</p>\n",
       "</div>"
      ],
      "text/plain": [
       "                   file_1                 file_2\n",
       "id                                              \n",
       "0   [2196, <class 'str'>]  [2018, <class 'str'>]\n",
       "1   [3124, <class 'str'>]   [936, <class 'str'>]\n",
       "2   [1139, <class 'str'>]   [801, <class 'str'>]\n",
       "3   [1774, <class 'str'>]  [1869, <class 'str'>]\n",
       "4    [195, <class 'str'>]   [871, <class 'str'>]\n",
       "..                    ...                    ...\n",
       "90  [2281, <class 'str'>]  [2146, <class 'str'>]\n",
       "91  [1986, <class 'str'>]  [2038, <class 'str'>]\n",
       "92  [8925, <class 'str'>]  [1128, <class 'str'>]\n",
       "93  [1058, <class 'str'>]  [1012, <class 'str'>]\n",
       "94  [1909, <class 'str'>]  [1935, <class 'str'>]\n",
       "\n",
       "[95 rows x 2 columns]"
      ]
     },
     "execution_count": 17,
     "metadata": {},
     "output_type": "execute_result"
    }
   ],
   "source": [
    "train_data.map(lambda x: [len(x), type(x.strip())])"
   ]
  },
  {
   "cell_type": "markdown",
   "id": "45d21e4c",
   "metadata": {},
   "source": [
    "### Preprocess text"
   ]
  },
  {
   "cell_type": "code",
   "execution_count": 18,
   "id": "0ebecfc9",
   "metadata": {},
   "outputs": [],
   "source": [
    "LEMMATIZER = WordNetLemmatizer()\n",
    "def preprocess_text(text:str) -> str:\n",
    "  \"\"\"\n",
    "  Preprocesses the text data by , converting to lowercase, lemmatizing, and removing stopwords.\n",
    "\n",
    "  Params:\n",
    "    dataframe (pd.DataFrame): DataFrame with columns ['file_1', 'file_2'] indexed by 'id'.\n",
    "  \n",
    "  Returns:\n",
    "    pd.DataFrame: Preprocessed DataFrame.\n",
    "  \"\"\"\n",
    "\n",
    "  text = text.lower()\n",
    "  text = LEMMATIZER.lemmatize(text)\n",
    "  return \" \".join([word for word in text.split() if word not in stopwords.words('english')])\n"
   ]
  },
  {
   "cell_type": "markdown",
   "id": "caacc4bd",
   "metadata": {},
   "source": [
    "### We will try a logistic regression on heuristics"
   ]
  },
  {
   "cell_type": "code",
   "execution_count": 19,
   "id": "a057eb58",
   "metadata": {},
   "outputs": [],
   "source": [
    "\n",
    "def train_logistic_regression(train_data:pd.DataFrame, df_train_gt:pd.DataFrame) -> tuple:\n",
    "    \"\"\"\n",
    "    Trains a logistic regression model to classify which of the two texts is real.\n",
    "\n",
    "    Params:\n",
    "    train_data (pd.DataFrame): DataFrame with columns ['file_1', 'file_2'] indexed by 'id'.\n",
    "    df_train_gt (pd.DataFrame): DataFrame with columns ['id', 'real_text_id'].\n",
    "    \"\"\"\n",
    "    merged_data = train_data.merge(df_train_gt, left_index=True, right_on='id')\n",
    "    texts = merged_data[\"file_1\"].tolist() + merged_data[\"file_2\"].tolist()\n",
    "\n",
    "    vectorizer = TfidfVectorizer(max_features=5000, ngram_range=(1,2))\n",
    "    X_all = vectorizer.fit_transform(texts)\n",
    "\n",
    "    n = len(merged_data)\n",
    "    X1, X2 = X_all[:n], X_all[n:]   # split back into file_1 and file_2\n",
    "\n",
    "    X = X1 - X2\n",
    "    y = (merged_data[\"real_text_id\"] == 1).astype(int)  # 1 if file_1 is real, 0 if file_2 is real\n",
    "\n",
    "    X_train, X_test, y_train, y_test = train_test_split(X, y, test_size=0.3, random_state=42)\n",
    "\n",
    "    clf = LogisticRegression(max_iter=1000)\n",
    "    clf.fit(X_train, y_train)\n",
    "\n",
    "    y_pred = clf.predict(X_test)\n",
    "    accuracy = accuracy_score(y_test, y_pred)\n",
    "    print(\"Accuracy:\", accuracy)\n",
    "\n",
    "    return clf, vectorizer\n"
   ]
  },
  {
   "cell_type": "code",
   "execution_count": 20,
   "id": "b2e2c448",
   "metadata": {},
   "outputs": [
    {
     "name": "stdout",
     "output_type": "stream",
     "text": [
      "Accuracy: 0.9310344827586207\n"
     ]
    }
   ],
   "source": [
    "logistic_regression, tfidf_vectorizer = train_logistic_regression(train_data, df_train_gt)"
   ]
  },
  {
   "cell_type": "markdown",
   "id": "8cdfa696",
   "metadata": {},
   "source": [
    "### Predict on test data"
   ]
  },
  {
   "cell_type": "code",
   "execution_count": 21,
   "id": "af36525d",
   "metadata": {},
   "outputs": [],
   "source": [
    "test_texts = test_data[\"file_1\"].tolist() + test_data[\"file_2\"].tolist()"
   ]
  },
  {
   "cell_type": "code",
   "execution_count": 22,
   "id": "397413b9",
   "metadata": {},
   "outputs": [],
   "source": [
    "X_test = tfidf_vectorizer.transform(test_texts)"
   ]
  },
  {
   "cell_type": "code",
   "execution_count": 23,
   "id": "38724464",
   "metadata": {},
   "outputs": [],
   "source": [
    "n = len(test_data)\n",
    "X1, X2 = X_test[:n], X_test[n:] \n",
    "X = X1 - X2"
   ]
  },
  {
   "cell_type": "code",
   "execution_count": 24,
   "id": "211f04ae",
   "metadata": {},
   "outputs": [],
   "source": [
    "y_pred = logistic_regression.predict(X)"
   ]
  },
  {
   "cell_type": "code",
   "execution_count": 25,
   "id": "749e0829",
   "metadata": {},
   "outputs": [],
   "source": [
    "tfidf_submission_df = pd.DataFrame({\n",
    "    \"id\": ids,\n",
    "    \"real_text_id\": y_pred\n",
    "})\n"
   ]
  },
  {
   "cell_type": "markdown",
   "id": "cb527a23",
   "metadata": {},
   "source": [
    "Althought this method gave us promising results in train data.  \n",
    "The test has a score of 0.47150/1."
   ]
  },
  {
   "cell_type": "code",
   "execution_count": 26,
   "id": "bb860995",
   "metadata": {},
   "outputs": [],
   "source": [
    "tfidf_submission_df.to_csv(\"../data/submission.csv\", index=False)"
   ]
  },
  {
   "cell_type": "markdown",
   "id": "e1ca5cb4",
   "metadata": {},
   "source": [
    "### Manual Feature Extraction"
   ]
  },
  {
   "cell_type": "markdown",
   "id": "6bcabe53",
   "metadata": {},
   "source": [
    "These are our helpers functions"
   ]
  },
  {
   "cell_type": "code",
   "execution_count": 48,
   "id": "ef0751a9",
   "metadata": {},
   "outputs": [],
   "source": [
    "def get_digit_ratio(text):\n",
    "    \"\"\"Calculate the ratio of numeric digits to total characters in the text.\"\"\"\n",
    "    return sum(c.isdigit() for c in text) / max(len(text), 1)\n",
    "\n",
    "def get_upper_ratio(text):\n",
    "    \"\"\"Calculate the ratio of uppercase letters to total characters in the text.\"\"\"\n",
    "    return sum(c.isupper() for c in text) / max(len(text), 1)\n",
    "\n",
    "def avg_word_length(text):\n",
    "    \"\"\"Calculate the average length of words in the text.\"\"\"\n",
    "    words = re.findall(r'\\b\\w+\\b', text)\n",
    "    return np.mean([len(w) for w in words]) if words else 0\n",
    "\n",
    "def vocab_size(text):\n",
    "    \"\"\"Count the number of unique words in the text (case-insensitive).\"\"\"\n",
    "    words = re.findall(r'\\b\\w+\\b', text.lower())\n",
    "    return len(set(words))\n",
    "\n",
    "def punct_ratio(text):\n",
    "    \"\"\"Calculate the ratio of punctuation marks to total characters in the text.\"\"\"\n",
    "    return sum(1 for c in text if c in '-#&@]}<{^.,;:!?*') / max(len(text), 1)\n",
    "\n",
    "def rare_word_ratio(text, common_words):\n",
    "    \"\"\"Calculate the ratio of rare words (not in common_words set) to total words.\"\"\"\n",
    "    words = re.findall(r'\\b\\w+\\b', text.lower())\n",
    "    rare = [w for w in words if w not in common_words]\n",
    "    return len(rare) / max(len(words), 1) if words else 0\n",
    "\n",
    "def sent_len_std(text):\n",
    "    \"\"\"Calculate the standard deviation of sentence lengths (in words) in the text.\"\"\"\n",
    "    sentences = re.split(r'[.!?]', text)\n",
    "    lens = [len(s.split()) for s in sentences if s.strip()]\n",
    "    return np.std(lens) if lens else 0\n",
    "\n",
    "def repetition_score(text, n=3):\n",
    "    \"\"\"Calculate the ratio of repeated n-grams to total n-grams in the text.\"\"\"\n",
    "    words = text.lower().split()\n",
    "    ngrams = [tuple(words[i:i+n]) for i in range(len(words)-n+1)]\n",
    "    counts = {}\n",
    "    for ng in ngrams:\n",
    "        counts[ng] = counts.get(ng, 0) + 1\n",
    "    repeated = sum(1 for v in counts.values() if v > 1)\n",
    "    return repeated / max(len(ngrams), 1) if ngrams else 0\n",
    "\n",
    "def is_latin_char(char):\n",
    "    \"\"\"Detect if given character is from Latin alphabet.\"\"\"\n",
    "    char=str(char)\n",
    "    try:\n",
    "        name=unicodedata.name(char)\n",
    "        return 'LATIN' in name\n",
    "    except ValueError:\n",
    "        return False\n",
    "\n",
    "def num_of_latin_char(text)-> int:\n",
    "    \"\"\"Count the total number of Latin alphabet characters in the text.\"\"\"\n",
    "    count = 0\n",
    "    for char in text:\n",
    "        if is_latin_char(char):\n",
    "            count += 1\n",
    "    return count\n",
    "\n",
    "def num_of_stop_words(text)-> int:\n",
    "    \"\"\"Count the number of English stop words in the text.\"\"\"\n",
    "    stop_words = set(stopwords.words('english'))\n",
    "    words = re.findall(r'\\b\\w+\\b', text.lower())\n",
    "    return sum(1 for w in words if w in stop_words)"
   ]
  },
  {
   "cell_type": "markdown",
   "id": "483d8636",
   "metadata": {},
   "source": [
    "We compute the difference between file_1 and file_2 because we do a pairwise comparison.   \n",
    "Unlike a single text classification, we are making a relative judgment on the two texts."
   ]
  },
  {
   "cell_type": "code",
   "execution_count": null,
   "id": "ec2a2426",
   "metadata": {},
   "outputs": [],
   "source": [
    "def get_features(row):\n",
    "    feats = {}\n",
    "    t1, t2 = row['file_1'], row['file_2']\n",
    "\n",
    "    # Length difference\n",
    "    feats['len_diff'] = len(t1) - len(t2)\n",
    "    # Sentence count difference\n",
    "    feats['sent_diff'] = t1.count('.') - t2.count('.')\n",
    "    # Digit ratio difference\n",
    "    feats['digit_diff'] = get_digit_ratio(t1) - get_digit_ratio(t2)\n",
    "    # Uppercase ratio difference\n",
    "    feats['upper_diff'] = get_upper_ratio(t1) - get_upper_ratio(t2)\n",
    "    # Average word length diff\n",
    "    feats['avg_wordlen_diff'] = avg_word_length(t1) - avg_word_length(t2)\n",
    "    # Vocabulary size diff\n",
    "    feats['vocab_diff'] = vocab_size(t1) - vocab_size(t2)\n",
    "    # Punctuation ratio diff\n",
    "    feats['punct_diff'] = punct_ratio(t1) - punct_ratio(t2)\n",
    "    # Sentence length std diff\n",
    "    feats['sentlen_std_diff'] = sent_len_std(t1) - sent_len_std(t2)\n",
    "    # Num of latin char diff \n",
    "    feats['num_latin_char_diff'] = num_of_latin_char(t1) - num_of_latin_char(t2)\n",
    "    # Stop words count diff\n",
    "    feats['stop_words_count_diff'] = num_of_stop_words(t1) - num_of_stop_words(t2)\n",
    "\n",
    "    return pd.Series(feats)"
   ]
  },
  {
   "cell_type": "markdown",
   "id": "eaab3031",
   "metadata": {},
   "source": [
    "We can now extract the features"
   ]
  },
  {
   "cell_type": "code",
   "execution_count": null,
   "id": "34326dc3",
   "metadata": {},
   "outputs": [],
   "source": [
    "X = train_data.apply(get_features, axis=1)\n",
    "y = (df_train_gt['real_text_id'] == 1).astype(int)  # 1 if file_1 is real, else 0"
   ]
  },
  {
   "cell_type": "code",
   "execution_count": 50,
   "id": "90ebb893",
   "metadata": {},
   "outputs": [
    {
     "name": "stderr",
     "output_type": "stream",
     "text": [
      "c:\\Users\\carlf\\anaconda3\\envs\\kaggle\\Lib\\site-packages\\sklearn\\linear_model\\_logistic.py:470: ConvergenceWarning: lbfgs failed to converge after 100 iteration(s) (status=1):\n",
      "STOP: TOTAL NO. OF ITERATIONS REACHED LIMIT\n",
      "\n",
      "Increase the number of iterations to improve the convergence (max_iter=100).\n",
      "You might also want to scale the data as shown in:\n",
      "    https://scikit-learn.org/stable/modules/preprocessing.html\n",
      "Please also refer to the documentation for alternative solver options:\n",
      "    https://scikit-learn.org/stable/modules/linear_model.html#logistic-regression\n",
      "  n_iter_i = _check_optimize_result(\n"
     ]
    },
    {
     "name": "stdout",
     "output_type": "stream",
     "text": [
      "              precision    recall  f1-score   support\n",
      "\n",
      "           0       0.70      1.00      0.82         7\n",
      "           1       1.00      0.75      0.86        12\n",
      "\n",
      "    accuracy                           0.84        19\n",
      "   macro avg       0.85      0.88      0.84        19\n",
      "weighted avg       0.89      0.84      0.84        19\n",
      "\n",
      "Confusion Matrix:\n",
      " [[7 0]\n",
      " [3 9]]\n"
     ]
    },
    {
     "data": {
      "image/png": "[encoded data removed]",
      "text/plain": [
       "<Figure size 700x500 with 1 Axes>"
      ]
     },
     "metadata": {},
     "output_type": "display_data"
    }
   ],
   "source": [
    "# Split into train and validation sets for a quick sanity check\n",
    "X_train, X_val, y_train, y_val = train_test_split(X, y, test_size=0.2, random_state=42)\n",
    "\n",
    "# Fit interpretable logistic regression\n",
    "clf = LogisticRegression()\n",
    "clf.fit(X_train, y_train)\n",
    "\n",
    "# Predictions and evaluation\n",
    "y_pred = clf.predict(X_val)\n",
    "print(classification_report(y_val, y_pred))\n",
    "print(\"Confusion Matrix:\\n\", confusion_matrix(y_val, y_pred))\n",
    "\n",
    "# Show feature importances\n",
    "feature_importance = pd.Series(clf.coef_[0], index=X.columns)\n",
    "feature_importance.sort_values(ascending=False).plot(kind='barh', figsize=(7,5), color=\"#5ACDBC\")\n",
    "plt.title(\"Feature Importance (Logistic Regression Weights)\")\n",
    "plt.xlabel(\"Weight\")\n",
    "plt.tight_layout()\n",
    "plt.show()"
   ]
  },
  {
   "cell_type": "code",
   "execution_count": 46,
   "id": "8687a442",
   "metadata": {},
   "outputs": [],
   "source": [
    "# Extract features for the test set\n",
    "X_test = test_data.apply(get_features, axis=1)\n",
    "# Predict: 1 if file_1 is real, 0 if file_2 is real\n",
    "test_preds = clf.predict(X_test)\n",
    "df_submission = pd.DataFrame({\n",
    "    'id':ids,\n",
    "    'real_text_id': [1 if pred == 1 else 2 for pred in test_preds]\n",
    "})\n",
    "df_submission.to_csv('../data/logistic_regression_submission.csv', index=False)"
   ]
  }
 ],
 "metadata": {
  "kernelspec": {
   "display_name": "kaggle",
   "language": "python",
   "name": "python3"
  },
  "language_info": {
   "codemirror_mode": {
    "name": "ipython",
    "version": 3
   },
   "file_extension": ".py",
   "mimetype": "text/x-python",
   "name": "python",
   "nbconvert_exporter": "python",
   "pygments_lexer": "ipython3",
   "version": "3.12.11"
  }
 },
 "nbformat": 4,
 "nbformat_minor": 5
}
